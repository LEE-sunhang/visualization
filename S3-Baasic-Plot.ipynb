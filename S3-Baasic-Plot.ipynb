{
 "cells": [
  {
   "cell_type": "code",
   "execution_count": null,
   "metadata": {},
   "outputs": [],
   "source": [
    "from bokeh.plotting import figure\n",
    "from bokeh.io import output_notebook, output_file, show"
   ]
  },
  {
   "cell_type": "code",
   "execution_count": null,
   "metadata": {},
   "outputs": [],
   "source": [
    "# Importing sample data in DataFrame\n",
    "from bokeh.sampledata.iris import flowers"
   ]
  },
  {
   "cell_type": "code",
   "execution_count": null,
   "metadata": {},
   "outputs": [],
   "source": [
    "type(flowers)"
   ]
  },
  {
   "cell_type": "code",
   "execution_count": null,
   "metadata": {},
   "outputs": [],
   "source": [
    "# Define the output file path\n",
    "output_file('S3.1-iris2.html')"
   ]
  },
  {
   "cell_type": "code",
   "execution_count": null,
   "metadata": {},
   "outputs": [],
   "source": [
    "# Create a figure object\n",
    "f = figure()"
   ]
  },
  {
   "cell_type": "code",
   "execution_count": null,
   "metadata": {},
   "outputs": [],
   "source": [
    "f.circle(flowers['petal_length'], flowers['petal_width'])"
   ]
  },
  {
   "cell_type": "code",
   "execution_count": null,
   "metadata": {},
   "outputs": [],
   "source": [
    "show(f)"
   ]
  },
  {
   "cell_type": "code",
   "execution_count": null,
   "metadata": {},
   "outputs": [],
   "source": [
    "output_notebook()"
   ]
  },
  {
   "cell_type": "code",
   "execution_count": null,
   "metadata": {},
   "outputs": [],
   "source": [
    "f.circle(x=flowers['petal_length'], y=flowers['petal_width'])"
   ]
  },
  {
   "cell_type": "code",
   "execution_count": null,
   "metadata": {},
   "outputs": [],
   "source": [
    "show(f)"
   ]
  },
  {
   "cell_type": "code",
   "execution_count": null,
   "metadata": {},
   "outputs": [],
   "source": []
  },
  {
   "cell_type": "code",
   "execution_count": null,
   "metadata": {},
   "outputs": [],
   "source": [
    "from bokeh.plotting import figure\n",
    "from bokeh.io import output_file, show\n",
    "from bokeh.sampledata.iris import flowers"
   ]
  },
  {
   "cell_type": "code",
   "execution_count": null,
   "metadata": {},
   "outputs": [],
   "source": [
    "# Define the output file path\n",
    "output_file(\"S3.2-iris2.html\")"
   ]
  },
  {
   "cell_type": "code",
   "execution_count": null,
   "metadata": {},
   "outputs": [],
   "source": [
    "# Create the figure object\n",
    "f = figure()"
   ]
  },
  {
   "cell_type": "code",
   "execution_count": null,
   "metadata": {},
   "outputs": [],
   "source": [
    "f.circle(x=flowers['petal_length'],\n",
    "         y=flowers['petal_width'])"
   ]
  },
  {
   "cell_type": "code",
   "execution_count": null,
   "metadata": {},
   "outputs": [],
   "source": [
    "# Style the plot area\n",
    "f.width = 1100   # f.plot_width=1100\n",
    "f.height = 650   # f.plot_height=650\n",
    "f.background_fill_color = \"#FECA74\" # f.background_fill_color='olive'\n",
    "f.background_fill_alpha = 0.2       # 색깔 투명도"
   ]
  },
  {
   "cell_type": "code",
   "execution_count": null,
   "metadata": {},
   "outputs": [],
   "source": [
    "show(f)"
   ]
  },
  {
   "cell_type": "code",
   "execution_count": null,
   "metadata": {},
   "outputs": [],
   "source": []
  },
  {
   "cell_type": "code",
   "execution_count": null,
   "metadata": {},
   "outputs": [],
   "source": [
    "from bokeh.plotting import figure\n",
    "from bokeh.io import output_file, output_notebook, show\n",
    "from bokeh.sampledata.iris import flowers"
   ]
  },
  {
   "cell_type": "code",
   "execution_count": null,
   "metadata": {},
   "outputs": [],
   "source": [
    "from bokeh.models import Range1d, PanTool, ResetTool, HoverTool"
   ]
  },
  {
   "cell_type": "code",
   "execution_count": null,
   "metadata": {},
   "outputs": [],
   "source": [
    "# Define the output file path\n",
    "output_file(\"S3.3-iris2.html\")\n",
    "# output_notebook()"
   ]
  },
  {
   "cell_type": "code",
   "execution_count": null,
   "metadata": {},
   "outputs": [],
   "source": [
    "# Create the figure objct\n",
    "f = figure()"
   ]
  },
  {
   "cell_type": "code",
   "execution_count": null,
   "metadata": {},
   "outputs": [],
   "source": [
    "f.circle(x=flowers['petal_length'],\n",
    "         y=flowers['petal_width'])"
   ]
  },
  {
   "cell_type": "code",
   "execution_count": null,
   "metadata": {},
   "outputs": [],
   "source": [
    "#Style the plot are\n",
    "f.width = 1100\n",
    "f.height = 650\n",
    "f.background_fill_color = \"#FECA74\"\n",
    "f.background_fill_alpha = 0.3"
   ]
  },
  {
   "cell_type": "code",
   "execution_count": null,
   "metadata": {},
   "outputs": [],
   "source": [
    "# Style the title\n",
    "f.title.text = \"Iris Morphology\"\n",
    "f.title.text_color = 'olive'\n",
    "f.title.text_font = 'times'\n",
    "f.title.text_font_size = '45px'  ## 문자열로 보내야함\n",
    "\n",
    "f.title.align = 'center'"
   ]
  },
  {
   "cell_type": "code",
   "execution_count": null,
   "metadata": {},
   "outputs": [],
   "source": [
    "show(f)"
   ]
  },
  {
   "cell_type": "code",
   "execution_count": null,
   "metadata": {},
   "outputs": [],
   "source": []
  },
  {
   "cell_type": "code",
   "execution_count": 161,
   "metadata": {},
   "outputs": [],
   "source": [
    "from bokeh.plotting import figure\n",
    "from bokeh.io import output_file, output_notebook, show\n",
    "from bokeh.sampledata.iris import flowers\n",
    "from bokeh.models import Range1d, PanTool, ResetTool, HoverTool"
   ]
  },
  {
   "cell_type": "code",
   "execution_count": 162,
   "metadata": {},
   "outputs": [
    {
     "data": {
      "text/html": [
       "<style>\n",
       "        .bk-notebook-logo {\n",
       "            display: block;\n",
       "            width: 20px;\n",
       "            height: 20px;\n",
       "            background-image: url(data:image/png;base64,iVBORw0KGgoAAAANSUhEUgAAABQAAAAUCAYAAACNiR0NAAAABHNCSVQICAgIfAhkiAAAAAlwSFlzAAALEgAACxIB0t1+/AAAABx0RVh0U29mdHdhcmUAQWRvYmUgRmlyZXdvcmtzIENTNui8sowAAAOkSURBVDiNjZRtaJVlGMd/1/08zzln5zjP1LWcU9N0NkN8m2CYjpgQYQXqSs0I84OLIC0hkEKoPtiH3gmKoiJDU7QpLgoLjLIQCpEsNJ1vqUOdO7ppbuec5+V+rj4ctwzd8IIbbi6u+8f1539dt3A78eXC7QizUF7gyV1fD1Yqg4JWz84yffhm0qkFqBogB9rM8tZdtwVsPUhWhGcFJngGeWrPzHm5oaMmkfEg1usvLFyc8jLRqDOMru7AyC8saQr7GG7f5fvDeH7Ej8CM66nIF+8yngt6HWaKh7k49Soy9nXurCi1o3qUbS3zWfrYeQDTB/Qj6kX6Ybhw4B+bOYoLKCC9H3Nu/leUTZ1JdRWkkn2ldcCamzrcf47KKXdAJllSlxAOkRgyHsGC/zRday5Qld9DyoM4/q/rUoy/CXh3jzOu3bHUVZeU+DEn8FInkPBFlu3+nW3Nw0mk6vCDiWg8CeJaxEwuHS3+z5RgY+YBR6V1Z1nxSOfoaPa4LASWxxdNp+VWTk7+4vzaou8v8PN+xo+KY2xsw6une2frhw05CTYOmQvsEhjhWjn0bmXPjpE1+kplmmkP3suftwTubK9Vq22qKmrBhpY4jvd5afdRA3wGjFAgcnTK2s4hY0/GPNIb0nErGMCRxWOOX64Z8RAC4oCXdklmEvcL8o0BfkNK4lUg9HTl+oPlQxdNo3Mg4Nv175e/1LDGzZen30MEjRUtmXSfiTVu1kK8W4txyV6BMKlbgk3lMwYCiusNy9fVfvvwMxv8Ynl6vxoByANLTWplvuj/nF9m2+PDtt1eiHPBr1oIfhCChQMBw6Aw0UulqTKZdfVvfG7VcfIqLG9bcldL/+pdWTLxLUy8Qq38heUIjh4XlzZxzQm19lLFlr8vdQ97rjZVOLf8nclzckbcD4wxXMidpX30sFd37Fv/GtwwhzhxGVAprjbg0gCAEeIgwCZyTV2Z1REEW8O4py0wsjeloKoMr6iCY6dP92H6Vw/oTyICIthibxjm/DfN9lVz8IqtqKYLUXfoKVMVQVVJOElGjrnnUt9T9wbgp8AyYKaGlqingHZU/uG2NTZSVqwHQTWkx9hxjkpWDaCg6Ckj5qebgBVbT3V3NNXMSiWSDdGV3hrtzla7J+duwPOToIg42ChPQOQjspnSlp1V+Gjdged7+8UN5CRAV7a5EdFNwCjEaBR27b3W890TE7g24NAP/mMDXRWrGoFPQI9ls/MWO2dWFAar/xcOIImbbpA3zgAAAABJRU5ErkJggg==);\n",
       "        }\n",
       "    </style>\n",
       "    <div>\n",
       "        <a href=\"https://bokeh.org\" target=\"_blank\" class=\"bk-notebook-logo\"></a>\n",
       "        <span id=\"p24063\">Loading BokehJS ...</span>\n",
       "    </div>\n"
      ]
     },
     "metadata": {},
     "output_type": "display_data"
    },
    {
     "data": {
      "application/javascript": "(function(root) {\n  function now() {\n    return new Date();\n  }\n\n  const force = true;\n\n  if (typeof root._bokeh_onload_callbacks === \"undefined\" || force === true) {\n    root._bokeh_onload_callbacks = [];\n    root._bokeh_is_loading = undefined;\n  }\n\nconst JS_MIME_TYPE = 'application/javascript';\n  const HTML_MIME_TYPE = 'text/html';\n  const EXEC_MIME_TYPE = 'application/vnd.bokehjs_exec.v0+json';\n  const CLASS_NAME = 'output_bokeh rendered_html';\n\n  /**\n   * Render data to the DOM node\n   */\n  function render(props, node) {\n    const script = document.createElement(\"script\");\n    node.appendChild(script);\n  }\n\n  /**\n   * Handle when an output is cleared or removed\n   */\n  function handleClearOutput(event, handle) {\n    const cell = handle.cell;\n\n    const id = cell.output_area._bokeh_element_id;\n    const server_id = cell.output_area._bokeh_server_id;\n    // Clean up Bokeh references\n    if (id != null && id in Bokeh.index) {\n      Bokeh.index[id].model.document.clear();\n      delete Bokeh.index[id];\n    }\n\n    if (server_id !== undefined) {\n      // Clean up Bokeh references\n      const cmd_clean = \"from bokeh.io.state import curstate; print(curstate().uuid_to_server['\" + server_id + \"'].get_sessions()[0].document.roots[0]._id)\";\n      cell.notebook.kernel.execute(cmd_clean, {\n        iopub: {\n          output: function(msg) {\n            const id = msg.content.text.trim();\n            if (id in Bokeh.index) {\n              Bokeh.index[id].model.document.clear();\n              delete Bokeh.index[id];\n            }\n          }\n        }\n      });\n      // Destroy server and session\n      const cmd_destroy = \"import bokeh.io.notebook as ion; ion.destroy_server('\" + server_id + \"')\";\n      cell.notebook.kernel.execute(cmd_destroy);\n    }\n  }\n\n  /**\n   * Handle when a new output is added\n   */\n  function handleAddOutput(event, handle) {\n    const output_area = handle.output_area;\n    const output = handle.output;\n\n    // limit handleAddOutput to display_data with EXEC_MIME_TYPE content only\n    if ((output.output_type != \"display_data\") || (!Object.prototype.hasOwnProperty.call(output.data, EXEC_MIME_TYPE))) {\n      return\n    }\n\n    const toinsert = output_area.element.find(\".\" + CLASS_NAME.split(' ')[0]);\n\n    if (output.metadata[EXEC_MIME_TYPE][\"id\"] !== undefined) {\n      toinsert[toinsert.length - 1].firstChild.textContent = output.data[JS_MIME_TYPE];\n      // store reference to embed id on output_area\n      output_area._bokeh_element_id = output.metadata[EXEC_MIME_TYPE][\"id\"];\n    }\n    if (output.metadata[EXEC_MIME_TYPE][\"server_id\"] !== undefined) {\n      const bk_div = document.createElement(\"div\");\n      bk_div.innerHTML = output.data[HTML_MIME_TYPE];\n      const script_attrs = bk_div.children[0].attributes;\n      for (let i = 0; i < script_attrs.length; i++) {\n        toinsert[toinsert.length - 1].firstChild.setAttribute(script_attrs[i].name, script_attrs[i].value);\n        toinsert[toinsert.length - 1].firstChild.textContent = bk_div.children[0].textContent\n      }\n      // store reference to server id on output_area\n      output_area._bokeh_server_id = output.metadata[EXEC_MIME_TYPE][\"server_id\"];\n    }\n  }\n\n  function register_renderer(events, OutputArea) {\n\n    function append_mime(data, metadata, element) {\n      // create a DOM node to render to\n      const toinsert = this.create_output_subarea(\n        metadata,\n        CLASS_NAME,\n        EXEC_MIME_TYPE\n      );\n      this.keyboard_manager.register_events(toinsert);\n      // Render to node\n      const props = {data: data, metadata: metadata[EXEC_MIME_TYPE]};\n      render(props, toinsert[toinsert.length - 1]);\n      element.append(toinsert);\n      return toinsert\n    }\n\n    /* Handle when an output is cleared or removed */\n    events.on('clear_output.CodeCell', handleClearOutput);\n    events.on('delete.Cell', handleClearOutput);\n\n    /* Handle when a new output is added */\n    events.on('output_added.OutputArea', handleAddOutput);\n\n    /**\n     * Register the mime type and append_mime function with output_area\n     */\n    OutputArea.prototype.register_mime_type(EXEC_MIME_TYPE, append_mime, {\n      /* Is output safe? */\n      safe: true,\n      /* Index of renderer in `output_area.display_order` */\n      index: 0\n    });\n  }\n\n  // register the mime type if in Jupyter Notebook environment and previously unregistered\n  if (root.Jupyter !== undefined) {\n    const events = require('base/js/events');\n    const OutputArea = require('notebook/js/outputarea').OutputArea;\n\n    if (OutputArea.prototype.mime_types().indexOf(EXEC_MIME_TYPE) == -1) {\n      register_renderer(events, OutputArea);\n    }\n  }\n  if (typeof (root._bokeh_timeout) === \"undefined\" || force === true) {\n    root._bokeh_timeout = Date.now() + 5000;\n    root._bokeh_failed_load = false;\n  }\n\n  const NB_LOAD_WARNING = {'data': {'text/html':\n     \"<div style='background-color: #fdd'>\\n\"+\n     \"<p>\\n\"+\n     \"BokehJS does not appear to have successfully loaded. If loading BokehJS from CDN, this \\n\"+\n     \"may be due to a slow or bad network connection. Possible fixes:\\n\"+\n     \"</p>\\n\"+\n     \"<ul>\\n\"+\n     \"<li>re-rerun `output_notebook()` to attempt to load from CDN again, or</li>\\n\"+\n     \"<li>use INLINE resources instead, as so:</li>\\n\"+\n     \"</ul>\\n\"+\n     \"<code>\\n\"+\n     \"from bokeh.resources import INLINE\\n\"+\n     \"output_notebook(resources=INLINE)\\n\"+\n     \"</code>\\n\"+\n     \"</div>\"}};\n\n  function display_loaded() {\n    const el = document.getElementById(\"p24063\");\n    if (el != null) {\n      el.textContent = \"BokehJS is loading...\";\n    }\n    if (root.Bokeh !== undefined) {\n      if (el != null) {\n        el.textContent = \"BokehJS \" + root.Bokeh.version + \" successfully loaded.\";\n      }\n    } else if (Date.now() < root._bokeh_timeout) {\n      setTimeout(display_loaded, 100)\n    }\n  }\n\n  function run_callbacks() {\n    try {\n      root._bokeh_onload_callbacks.forEach(function(callback) {\n        if (callback != null)\n          callback();\n      });\n    } finally {\n      delete root._bokeh_onload_callbacks\n    }\n    console.debug(\"Bokeh: all callbacks have finished\");\n  }\n\n  function load_libs(css_urls, js_urls, callback) {\n    if (css_urls == null) css_urls = [];\n    if (js_urls == null) js_urls = [];\n\n    root._bokeh_onload_callbacks.push(callback);\n    if (root._bokeh_is_loading > 0) {\n      console.debug(\"Bokeh: BokehJS is being loaded, scheduling callback at\", now());\n      return null;\n    }\n    if (js_urls == null || js_urls.length === 0) {\n      run_callbacks();\n      return null;\n    }\n    console.debug(\"Bokeh: BokehJS not loaded, scheduling load and callback at\", now());\n    root._bokeh_is_loading = css_urls.length + js_urls.length;\n\n    function on_load() {\n      root._bokeh_is_loading--;\n      if (root._bokeh_is_loading === 0) {\n        console.debug(\"Bokeh: all BokehJS libraries/stylesheets loaded\");\n        run_callbacks()\n      }\n    }\n\n    function on_error(url) {\n      console.error(\"failed to load \" + url);\n    }\n\n    for (let i = 0; i < css_urls.length; i++) {\n      const url = css_urls[i];\n      const element = document.createElement(\"link\");\n      element.onload = on_load;\n      element.onerror = on_error.bind(null, url);\n      element.rel = \"stylesheet\";\n      element.type = \"text/css\";\n      element.href = url;\n      console.debug(\"Bokeh: injecting link tag for BokehJS stylesheet: \", url);\n      document.body.appendChild(element);\n    }\n\n    for (let i = 0; i < js_urls.length; i++) {\n      const url = js_urls[i];\n      const element = document.createElement('script');\n      element.onload = on_load;\n      element.onerror = on_error.bind(null, url);\n      element.async = false;\n      element.src = url;\n      console.debug(\"Bokeh: injecting script tag for BokehJS library: \", url);\n      document.head.appendChild(element);\n    }\n  };\n\n  function inject_raw_css(css) {\n    const element = document.createElement(\"style\");\n    element.appendChild(document.createTextNode(css));\n    document.body.appendChild(element);\n  }\n\n  const js_urls = [\"https://cdn.bokeh.org/bokeh/release/bokeh-3.0.3.min.js\", \"https://cdn.bokeh.org/bokeh/release/bokeh-gl-3.0.3.min.js\", \"https://cdn.bokeh.org/bokeh/release/bokeh-widgets-3.0.3.min.js\", \"https://cdn.bokeh.org/bokeh/release/bokeh-tables-3.0.3.min.js\", \"https://cdn.bokeh.org/bokeh/release/bokeh-mathjax-3.0.3.min.js\"];\n  const css_urls = [];\n\n  const inline_js = [    function(Bokeh) {\n      Bokeh.set_log_level(\"info\");\n    },\nfunction(Bokeh) {\n    }\n  ];\n\n  function run_inline_js() {\n    if (root.Bokeh !== undefined || force === true) {\n          for (let i = 0; i < inline_js.length; i++) {\n      inline_js[i].call(root, root.Bokeh);\n    }\nif (force === true) {\n        display_loaded();\n      }} else if (Date.now() < root._bokeh_timeout) {\n      setTimeout(run_inline_js, 100);\n    } else if (!root._bokeh_failed_load) {\n      console.log(\"Bokeh: BokehJS failed to load within specified timeout.\");\n      root._bokeh_failed_load = true;\n    } else if (force !== true) {\n      const cell = $(document.getElementById(\"p24063\")).parents('.cell').data().cell;\n      cell.output_area.append_execute_result(NB_LOAD_WARNING)\n    }\n  }\n\n  if (root._bokeh_is_loading === 0) {\n    console.debug(\"Bokeh: BokehJS loaded, going straight to plotting\");\n    run_inline_js();\n  } else {\n    load_libs(css_urls, js_urls, function() {\n      console.debug(\"Bokeh: BokehJS plotting callback run at\", now());\n      run_inline_js();\n    });\n  }\n}(window));",
      "application/vnd.bokehjs_load.v0+json": ""
     },
     "metadata": {},
     "output_type": "display_data"
    }
   ],
   "source": [
    "# Defining the output file path\n",
    "# output_file(\"S3.4-iris2.html\")\n",
    "output_notebook()"
   ]
  },
  {
   "cell_type": "code",
   "execution_count": null,
   "metadata": {},
   "outputs": [],
   "source": [
    "# Create the figure object\n",
    "f = figure()"
   ]
  },
  {
   "attachments": {},
   "cell_type": "markdown",
   "metadata": {},
   "source": [
    "##### Choose Plotting type"
   ]
  },
  {
   "cell_type": "code",
   "execution_count": 169,
   "metadata": {},
   "outputs": [
    {
     "data": {
      "text/html": [
       "<div style=\"display: table;\"><div style=\"display: table-row;\"><div style=\"display: table-cell;\"><b title=\"bokeh.models.renderers.glyph_renderer.GlyphRenderer\">GlyphRenderer</b>(</div><div style=\"display: table-cell;\">id&nbsp;=&nbsp;'p24234', <span id=\"p24254\" style=\"cursor: pointer;\">&hellip;)</span></div></div><div class=\"p24253\" style=\"display: none;\"><div style=\"display: table-cell;\"></div><div style=\"display: table-cell;\">coordinates&nbsp;=&nbsp;None,</div></div><div class=\"p24253\" style=\"display: none;\"><div style=\"display: table-cell;\"></div><div style=\"display: table-cell;\">data_source&nbsp;=&nbsp;ColumnDataSource(id='p24228', ...),</div></div><div class=\"p24253\" style=\"display: none;\"><div style=\"display: table-cell;\"></div><div style=\"display: table-cell;\">glyph&nbsp;=&nbsp;Circle(id='p24231', ...),</div></div><div class=\"p24253\" style=\"display: none;\"><div style=\"display: table-cell;\"></div><div style=\"display: table-cell;\">group&nbsp;=&nbsp;None,</div></div><div class=\"p24253\" style=\"display: none;\"><div style=\"display: table-cell;\"></div><div style=\"display: table-cell;\">hover_glyph&nbsp;=&nbsp;None,</div></div><div class=\"p24253\" style=\"display: none;\"><div style=\"display: table-cell;\"></div><div style=\"display: table-cell;\">js_event_callbacks&nbsp;=&nbsp;{},</div></div><div class=\"p24253\" style=\"display: none;\"><div style=\"display: table-cell;\"></div><div style=\"display: table-cell;\">js_property_callbacks&nbsp;=&nbsp;{},</div></div><div class=\"p24253\" style=\"display: none;\"><div style=\"display: table-cell;\"></div><div style=\"display: table-cell;\">level&nbsp;=&nbsp;'glyph',</div></div><div class=\"p24253\" style=\"display: none;\"><div style=\"display: table-cell;\"></div><div style=\"display: table-cell;\">muted&nbsp;=&nbsp;False,</div></div><div class=\"p24253\" style=\"display: none;\"><div style=\"display: table-cell;\"></div><div style=\"display: table-cell;\">muted_glyph&nbsp;=&nbsp;Circle(id='p24233', ...),</div></div><div class=\"p24253\" style=\"display: none;\"><div style=\"display: table-cell;\"></div><div style=\"display: table-cell;\">name&nbsp;=&nbsp;None,</div></div><div class=\"p24253\" style=\"display: none;\"><div style=\"display: table-cell;\"></div><div style=\"display: table-cell;\">nonselection_glyph&nbsp;=&nbsp;Circle(id='p24232', ...),</div></div><div class=\"p24253\" style=\"display: none;\"><div style=\"display: table-cell;\"></div><div style=\"display: table-cell;\">selection_glyph&nbsp;=&nbsp;'auto',</div></div><div class=\"p24253\" style=\"display: none;\"><div style=\"display: table-cell;\"></div><div style=\"display: table-cell;\">subscribed_events&nbsp;=&nbsp;PropertyValueSet(),</div></div><div class=\"p24253\" style=\"display: none;\"><div style=\"display: table-cell;\"></div><div style=\"display: table-cell;\">syncable&nbsp;=&nbsp;True,</div></div><div class=\"p24253\" style=\"display: none;\"><div style=\"display: table-cell;\"></div><div style=\"display: table-cell;\">tags&nbsp;=&nbsp;[],</div></div><div class=\"p24253\" style=\"display: none;\"><div style=\"display: table-cell;\"></div><div style=\"display: table-cell;\">view&nbsp;=&nbsp;CDSView(id='p24235', ...),</div></div><div class=\"p24253\" style=\"display: none;\"><div style=\"display: table-cell;\"></div><div style=\"display: table-cell;\">visible&nbsp;=&nbsp;True,</div></div><div class=\"p24253\" style=\"display: none;\"><div style=\"display: table-cell;\"></div><div style=\"display: table-cell;\">x_range_name&nbsp;=&nbsp;'default',</div></div><div class=\"p24253\" style=\"display: none;\"><div style=\"display: table-cell;\"></div><div style=\"display: table-cell;\">y_range_name&nbsp;=&nbsp;'default')</div></div></div>\n",
       "<script>\n",
       "(function() {\n",
       "  let expanded = false;\n",
       "  const ellipsis = document.getElementById(\"p24254\");\n",
       "  ellipsis.addEventListener(\"click\", function() {\n",
       "    const rows = document.getElementsByClassName(\"p24253\");\n",
       "    for (let i = 0; i < rows.length; i++) {\n",
       "      const el = rows[i];\n",
       "      el.style.display = expanded ? \"none\" : \"table-row\";\n",
       "    }\n",
       "    ellipsis.innerHTML = expanded ? \"&hellip;)\" : \"&lsaquo;&lsaquo;&lsaquo;\";\n",
       "    expanded = !expanded;\n",
       "  });\n",
       "})();\n",
       "</script>\n"
      ],
      "text/plain": [
       "GlyphRenderer(id='p24234', ...)"
      ]
     },
     "execution_count": 169,
     "metadata": {},
     "output_type": "execute_result"
    }
   ],
   "source": [
    "\n",
    "##### figure's Plotting Method #####\n",
    "### Line Style Plotting ###\n",
    "f.line#()\n",
    "f.multi_line#()\n",
    "f.hline_stack#()\n",
    "f.vline_stack#()\n",
    "f.step#()\n",
    "f.segment#()\n",
    "# -  -  -  -  -  -  -  -\n",
    "### Bar Style Plotting ###\n",
    "f.hbar#()\n",
    "f.hbar_stack#()\n",
    "f.vbar#()\n",
    "f.vbar_stack#()\n",
    "f.harea#()\n",
    "f.harea_stack#()\n",
    "f.varea#()\n",
    "f.varea_stack#()\n",
    "# -  -  -  -  -  -  -  -\n",
    "### Dot Style Plotting ###\n",
    "f.dot#()\n",
    "f.text#()\n",
    "f.image#()\n",
    "f.image_rgba#()\n",
    "f.image_url#()\n",
    "# -  -  -  -  -  -  -  -\n",
    "f.x#()\n",
    "f.y#()\n",
    "f.scatter#()\n",
    "# -  -  -  -  -  -  -  -\n",
    "f.asterisk#()\n",
    "f.bezier#()\n",
    "f.circle#()\n",
    "f.circle_dot#()\n",
    "f.circle_x#()\n",
    "f.circle_y#()\n",
    "f.circle_cross#()\n",
    "f.cross#()\n",
    "f.dash#()\n",
    "f.diamond#()\n",
    "f.diamond_cross#()\n",
    "f.diamond_dot#()\n",
    "#f.oval()\n",
    "f.plus#()\n",
    "f.triangle#()\n",
    "f.triangle_dot#()\n",
    "f.triangle_pin#()\n",
    "f.inverted_triangle#()\n",
    "f.patch#()\n",
    "f.patches#()\n",
    "f.square#()\n",
    "f.square_cross#()\n",
    "f.square_dot#()\n",
    "f.square_pin#()\n",
    "f.square_x#()\n",
    "f.star#()\n",
    "f.star_dot#()\n",
    "# -  -  -  -  -  -  -  -\n",
    "### ??? ###\n",
    "f.annular_wedge#()\n",
    "f.annulus#()\n",
    "f.arc#()\n",
    "f.ellipse#()\n",
    "f.hex#()\n",
    "f.hex_tile#()\n",
    "f.hexbin#()\n",
    "f.ray#()\n",
    "f.multi_polygons#()\n",
    "f.rect#()\n",
    "f.quad#()\n",
    "f.quadratic#()\n",
    "f.wedge#()\n",
    "\n",
    "f.circle(x=flowers['petal_length'],\n",
    "         y=flowers['petal_width'],\n",
    "         legend_label=\"Objects\")"
   ]
  },
  {
   "attachments": {},
   "cell_type": "markdown",
   "metadata": {},
   "source": [
    "#### Style the plot area"
   ]
  },
  {
   "cell_type": "code",
   "execution_count": null,
   "metadata": {},
   "outputs": [],
   "source": [
    "##### figure's data attributes #####\n",
    "# Style the plot area\n",
    "f.x_range\n",
    "f.x_scale\n",
    "f.extra_x_ranges\n",
    "f.extra_x_scales\n",
    "# -  -  -  -  -  -  -  -\n",
    "f.y_range\n",
    "f.y_scale\n",
    "f.extra_y_ranges\n",
    "f.extra_y_scales\n",
    "# -  -  -  -  -  -  -  -\n",
    "f.title_location\n",
    "# -  -  -  -  -  -  -  -\n",
    "f.width= 500\n",
    "f.height = 250\n",
    "f.background_fill_color = '#FECA74'\n",
    "f.background_fill_alpha = 0.3\n",
    "# -  -  -  -  -  -  -  -\n",
    "f.border_fill_color\n",
    "f.border_fill_alpha\n",
    "# -  -  -  -  -  -  -  -\n",
    "f.frame_width\n",
    "f.frame_height\n",
    "# -  -  -  -  -  -  -  -\n",
    "f.inner_width\n",
    "f.inner_height\n",
    "# -  -  -  -  -  -  -  -\n",
    "f.outer_width\n",
    "f.outer_height\n",
    "# -  -  -  -  -  -  -  -\n",
    "f.outline_line_color\n",
    "f.outline_line_alpha\n",
    "f.outline_line_cap\n",
    "f.outline_line_dash\n",
    "f.outline_line_dash_offset\n",
    "f.outline_line_join\n",
    "f.outline_line_width\n",
    "# -  -  -  -  -  -  -  -\n",
    "f.min_border\n",
    "f.min_border_top\n",
    "f.min_border_bottom\n",
    "f.min_border_left\n",
    "f.min_border_right\n",
    "# -  -  -  -  -  -  -  -\n",
    "f.renderers\n",
    "# A list of all renderers for the plot, including guides and annotations in addition to glyphs\n",
    "f.left; f.right; f.above; f.below; f.center\n",
    "# -  -  -  -  -  -  -  -\n",
    "f.hidpi\n",
    "# -  -  -  -  -  -  -  -\n",
    "f.tools\n",
    "f.toolbar\n",
    "f.toolbar_location\n",
    "f.toolbar_sticky\n",
    "# -  -  -  -  -  -  -  -\n",
    "f.lod_factor\n",
    "f.lod_threshold\n",
    "f.lod_timeout\n",
    "f.output_backend\n",
    "f.match_aspect\n",
    "f.aspect_scale\n",
    "f.reset_policy"
   ]
  },
  {
   "attachments": {},
   "cell_type": "markdown",
   "metadata": {},
   "source": [
    "#### Style the axes"
   ]
  },
  {
   "cell_type": "code",
   "execution_count": null,
   "metadata": {},
   "outputs": [],
   "source": [
    "# Style the axes\n",
    "x = f.xaxis  # x-axis\n",
    "y = f.yaxis  # y-axis\n",
    "z = f.axis   # x,y axes\n",
    "\n",
    "\n",
    "x.bounds\n",
    "x.ticker\n",
    "x.formatter\n",
    "# -  -  -  -  -  -  -  -\n",
    "x.axis_label = \"Length\"\n",
    "x.axis_label_standoff\n",
    "x.axis_label_text_color = \"red\"\n",
    "x.axis_label_text_alpha = 0.3\n",
    "x.axis_label_text_align\n",
    "x.axis_label_text_font = \"Times\"\n",
    "x.axis_label_text_font_size = \"20px\"\n",
    "x.axis_label_text_font_style\n",
    "x.axis_label_text_line_height\n",
    "# -  -  -  -  -  -  -  -\n",
    "x.major_label_orientation = \"vertical\"\n",
    "x.major_label_overrides\n",
    "x.major_label_policy\n",
    "x.major_label_text_color = \"green\"\n",
    "x.major_label_text_alpha = 0.6\n",
    "x.major_label_text_font = \"Times\"\n",
    "x.major_label_text_font_size = \"45px\"\n",
    "x.major_label_text_font_style\n",
    "x.major_label_text_baseline\n",
    "x.major_label_text_align\n",
    "x.major_label_text_line_height\n",
    "# -  -  -  -  -  -  -  -\n",
    "x.major_tick_in = 40\n",
    "x.major_tick_out = 0\n",
    "x.major_tick_line_color = \"blue\" \n",
    "x.major_tick_line_alpha\n",
    "x.major_tick_line_cap\n",
    "x.major_tick_line_dash\n",
    "x.major_tick_line_dash_offset\n",
    "x.major_tick_line_join\n",
    "x.major_tick_line_width\n",
    "# -  -  -  -  -  -  -  -\n",
    "x.minor_tick_in = 0\n",
    "x.minor_tick_out = 20\n",
    "x.minor_tick_line_color = \"red\"\n",
    "x.minor_tick_line_alpha\n",
    "x.minor_tick_line_cap\n",
    "x.minor_tick_line_dash\n",
    "x.minor_tick_line_dash_offset\n",
    "x.minor_tick_line_join\n",
    "x.minor_tick_line_width\n",
    "# -  -  -  -  -  -  -  -\n",
    "x.axis_line_color = \"black\"\n",
    "x.axis_line_alpha = 0.2\n",
    "x.axis_line_cap\n",
    "x.axis_line_dash\n",
    "x.axis_line_dash_offset\n",
    "x.axis_line_join\n",
    "x.axis_line_width = 20\n",
    "\n",
    "x.visible=True\n",
    "show(f)"
   ]
  },
  {
   "attachments": {},
   "cell_type": "markdown",
   "metadata": {},
   "source": [
    "#### Style the title"
   ]
  },
  {
   "cell_type": "code",
   "execution_count": null,
   "metadata": {},
   "outputs": [],
   "source": [
    "\n",
    "# Style the title\n",
    "title = f.title\n",
    "\n",
    "title.text = \"Iris Morphology\"\n",
    "title.text_font = \"Agency FB\"\n",
    "title.text_font_size = \"20px\"\n",
    "title.text_font_style\n",
    "# -  -  -  -  -  -  -  - \n",
    "title.text_color = \"olive\"\n",
    "title.text_alpha\n",
    "# -  -  -  -  -  -  -  - \n",
    "title.align = \"center\"\n",
    "title.vertical_align\n",
    "title.text_line_height\n",
    "# -  -  -  -  -  -  -  - \n",
    "title.offset\n",
    "title.standoff\n",
    "# -  -  -  -  -  -  -  - \n",
    "title.background_fill_color\n",
    "title.background_fill_alpha\n",
    "# -  -  -  -  -  -  -  - \n",
    "title.border_line_color\n",
    "title.border_line_alpha\n",
    "title.border_line_cap\n",
    "title.border_line_dash\n",
    "title.border_line_dash_offset\n",
    "title.border_line_join\n",
    "title.border_line_color\n",
    "title.border_line_width\n",
    "\n",
    "show(f)"
   ]
  },
  {
   "attachments": {},
   "cell_type": "markdown",
   "metadata": {},
   "source": [
    "#### Style the legend"
   ]
  },
  {
   "cell_type": "code",
   "execution_count": 171,
   "metadata": {},
   "outputs": [],
   "source": [
    "# Style the legend #IMPORTANT: .circle(... legend_label=\"Create Legend first!\")\n",
    "leg = f.legend\n",
    "# -  -  -  -  -  -  -  - \n",
    "leg.location\n",
    "leg.orientation\n",
    "# -  -  -  -  -  -  -  - \n",
    "leg.title\n",
    "leg.title_text_color\n",
    "leg.title_text_alpha\n",
    "leg.title_text_align\n",
    "leg.title_text_font\n",
    "leg.title_text_font_size\n",
    "leg.title_text_font_style\n",
    "leg.title_text_baseline\n",
    "leg.title_text_line_height\n",
    "leg.title_standoff\n",
    "# -  -  -  -  -  -  -  - \n",
    "leg.label_text_color\n",
    "leg.label_text_alpha\n",
    "leg.label_text_align\n",
    "leg.label_text_font\n",
    "leg.label_text_font_size\n",
    "leg.label_text_font_style\n",
    "leg.label_text_baseline\n",
    "leg.label_text_line_height\n",
    "# -  -  -  -  -  -  -  - \n",
    "leg.label_standoff\n",
    "leg.label_height\n",
    "leg.label_width\n",
    "# -  -  -  -  -  -  -  - \n",
    "leg.background_fill_color\n",
    "leg.background_fill_alpha\n",
    "# -  -  -  -  -  -  -  - \n",
    "leg.border_line_color\n",
    "leg.border_line_alpha\n",
    "leg.border_line_cap\n",
    "leg.border_line_dash\n",
    "leg.border_line_dash_offset\n",
    "leg.border_line_join\n",
    "leg.border_line_width\n",
    "# -  -  -  -  -  -  -  - \n",
    "leg.inactive_fill_color\n",
    "leg.inactive_fill_alpha\n",
    "# -  -  -  -  -  -  -  - \n",
    "leg.click_policy\n",
    "# -  -  -  -  -  -  -  - \n",
    "leg.glyph_height\n",
    "leg.glyph_width\n",
    "# -  -  -  -  -  -  -  - \n",
    "leg.margin\n",
    "leg.padding\n",
    "leg.spacing\n",
    "leg.items"
   ]
  },
  {
   "attachments": {},
   "cell_type": "markdown",
   "metadata": {},
   "source": [
    "#### Style the grid"
   ]
  },
  {
   "cell_type": "code",
   "execution_count": null,
   "metadata": {},
   "outputs": [],
   "source": [
    "# Style the Grid\n",
    "xgri = f.xgrid\n",
    "ygri = f.ygrid\n",
    "gri = f.grid\n",
    "# -  -  -  -  -  -  -  - \n",
    "xgri.dimension\n",
    "xgri.bounds\n",
    "xgri.axis\n",
    "xgri.ticker\n",
    "# -  -  -  -  -  -  -  - \n",
    "xgri.grid_line_color\n",
    "xgri.grid_line_alpha\n",
    "xgri.grid_line_cap\n",
    "xgri.grid_line_dash\n",
    "xgri.grid_line_dash_offset\n",
    "xgri.grid_line_join\n",
    "xgri.grid_line_width\n",
    "# -  -  -  -  -  -  -  - \n",
    "xgri.minor_grid_line_color\n",
    "xgri.minor_grid_line_alpha\n",
    "xgri.minor_grid_line_cap\n",
    "xgri.minor_grid_line_dash\n",
    "xgri.minor_grid_line_dash_offset\n",
    "xgri.minor_grid_line_join\n",
    "xgri.minor_grid_line_width\n",
    "# -  -  -  -  -  -  -  - \n",
    "xgri.band_fill_color\n",
    "xgri.band_fill_alpha\n",
    "# -  -  -  -  -  -  -  - \n",
    "xgri.band_hatch_color\n",
    "xgri.band_hatch_alpha\n",
    "xgri.band_hatch_pattern\n",
    "xgri.band_hatch_weight\n",
    "xgri.band_hatch_scale\n",
    "xgri.band_hatch_extra"
   ]
  },
  {
   "cell_type": "code",
   "execution_count": null,
   "metadata": {},
   "outputs": [],
   "source": [
    "# Style the Hover Tools\n",
    "hov = f.hover # . . ."
   ]
  },
  {
   "cell_type": "code",
   "execution_count": null,
   "metadata": {},
   "outputs": [],
   "source": []
  },
  {
   "cell_type": "code",
   "execution_count": null,
   "metadata": {},
   "outputs": [],
   "source": []
  },
  {
   "cell_type": "code",
   "execution_count": null,
   "metadata": {},
   "outputs": [],
   "source": []
  },
  {
   "cell_type": "code",
   "execution_count": null,
   "metadata": {},
   "outputs": [],
   "source": []
  },
  {
   "cell_type": "code",
   "execution_count": null,
   "metadata": {},
   "outputs": [],
   "source": [
    "f = figure()\n",
    "\n",
    "f.annular_wedge()\n",
    "f.annulus()\n",
    "f.arc()\n",
    "f.asterisk()\n",
    "f.bezier()\n",
    "f.circle()\n",
    "f.circle_cross()\n",
    "f.circle_dot()\n",
    "f.circle_x()\n",
    "f.circle_y()\n",
    "f.cross()\n",
    "f.dash()\n",
    "f.diamond()\n",
    "f.diamond_cross()\n",
    "f.diamond_dot()\n",
    "f.dot()\n",
    "f.ellipse()\n",
    "f.harea()\n",
    "f.hbar()\n",
    "f.hex()\n",
    "f.hex_tile()\n",
    "f.image()\n",
    "f.image_rgba()\n",
    "f.image_url()\n",
    "f.inverted_triangle()\n",
    "f.line()\n",
    "f.multi_line()\n",
    "f.multi_polygons()\n",
    "f.oval()\n",
    "f.patch()\n",
    "f.patches()\n",
    "f.plus()\n",
    "f.quad()\n",
    "f.quadratic()\n",
    "f.ray()\n",
    "f.rect()\n",
    "f.segment()\n",
    "f.square()\n",
    "f.square_cross()\n",
    "f.square_dot()\n",
    "f.square_pin()\n",
    "f.square_x()\n",
    "f.star()\n",
    "f.star_dot()\n",
    "f.step()\n",
    "f.text()\n",
    "f.triangle()\n",
    "f.triangle_dot()\n",
    "f.triangle_pin()\n",
    "f.varea()\n",
    "f.vbar()\n",
    "f.wedge()\n",
    "f.x()\n",
    "f.y()\n",
    "f.scatter()\n",
    "\n",
    "f.hbar_stack()\n",
    "f.vbar_stack()\n",
    "f.hline_stack()\n",
    "f.vline_stack()\n",
    "\n",
    "f.harea_stack()\n",
    "f.varea_stack()\n",
    "\n",
    "f.hexbin()"
   ]
  }
 ],
 "metadata": {
  "kernelspec": {
   "display_name": ".bokeh",
   "language": "python",
   "name": "python3"
  },
  "language_info": {
   "codemirror_mode": {
    "name": "ipython",
    "version": 3
   },
   "file_extension": ".py",
   "mimetype": "text/x-python",
   "name": "python",
   "nbconvert_exporter": "python",
   "pygments_lexer": "ipython3",
   "version": "3.11.0rc1"
  },
  "orig_nbformat": 4,
  "vscode": {
   "interpreter": {
    "hash": "6a11370133acd9cb3625a6edb0643ce10ea50af370d38334a24bcf359a95be10"
   }
  }
 },
 "nbformat": 4,
 "nbformat_minor": 2
}
