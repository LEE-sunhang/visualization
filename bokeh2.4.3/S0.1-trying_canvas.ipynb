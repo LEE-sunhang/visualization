{
 "cells": [
  {
   "cell_type": "code",
   "execution_count": 2,
   "metadata": {},
   "outputs": [],
   "source": [
    "from bokeh.io import curdoc \n",
    "from bokeh.models.widgets import TextInput, Button, Paragraph\n",
    "from bokeh.layouts import layout"
   ]
  },
  {
   "cell_type": "code",
   "execution_count": 3,
   "metadata": {},
   "outputs": [],
   "source": [
    "text_input = TextInput(value='Hello')\n",
    "button = Button(label='button label')\n",
    "output = Paragraph()"
   ]
  },
  {
   "cell_type": "code",
   "execution_count": 7,
   "metadata": {},
   "outputs": [],
   "source": [
    "lay_out = layout([button, text_input], \n",
    "                 [output])"
   ]
  },
  {
   "cell_type": "code",
   "execution_count": null,
   "metadata": {},
   "outputs": [],
   "source": []
  },
  {
   "cell_type": "code",
   "execution_count": 6,
   "metadata": {},
   "outputs": [
    {
     "name": "stdout",
     "output_type": "stream",
     "text": [
      "align\n",
      "apply_theme\n",
      "aspect_ratio\n",
      "background\n",
      "button_type\n",
      "classes\n",
      "context_menu\n",
      "css_classes\n",
      "dataspecs\n",
      "descriptors\n",
      "destroy\n",
      "disabled\n",
      "document\n",
      "equals\n",
      "flow_mode\n",
      "height\n",
      "height_policy\n",
      "icon\n",
      "id\n",
      "js_event_callbacks\n",
      "js_link\n",
      "js_on_change\n",
      "js_on_click\n",
      "js_on_event\n",
      "js_property_callbacks\n",
      "label\n",
      "lookup\n",
      "margin\n",
      "max_height\n",
      "max_width\n",
      "min_height\n",
      "min_width\n",
      "name\n",
      "on_change\n",
      "on_click\n",
      "on_event\n",
      "parameters\n",
      "properties\n",
      "properties_with_refs\n",
      "properties_with_values\n",
      "query_properties_with_values\n",
      "ref\n",
      "references\n",
      "remove_on_change\n",
      "resizable\n",
      "select\n",
      "select_one\n",
      "set_from_json\n",
      "set_select\n",
      "sizing_mode\n",
      "styles\n",
      "stylesheets\n",
      "subscribed_events\n",
      "syncable\n",
      "tags\n",
      "themed_values\n",
      "to_serializable\n",
      "trigger\n",
      "unapply_theme\n",
      "update\n",
      "visible\n",
      "width\n",
      "width_policy\n"
     ]
    }
   ],
   "source": [
    "for attr in dir(button):\n",
    "    if not attr.startswith('_'):\n",
    "        print(attr)"
   ]
  },
  {
   "cell_type": "code",
   "execution_count": null,
   "metadata": {},
   "outputs": [],
   "source": []
  }
 ],
 "metadata": {
  "kernelspec": {
   "display_name": ".bokeh",
   "language": "python",
   "name": "python3"
  },
  "language_info": {
   "codemirror_mode": {
    "name": "ipython",
    "version": 3
   },
   "file_extension": ".py",
   "mimetype": "text/x-python",
   "name": "python",
   "nbconvert_exporter": "python",
   "pygments_lexer": "ipython3",
   "version": "3.11.0rc1"
  },
  "orig_nbformat": 4,
  "vscode": {
   "interpreter": {
    "hash": "6a11370133acd9cb3625a6edb0643ce10ea50af370d38334a24bcf359a95be10"
   }
  }
 },
 "nbformat": 4,
 "nbformat_minor": 2
}
