{
 "cells": [
  {
   "cell_type": "code",
   "execution_count": 1,
   "metadata": {},
   "outputs": [
    {
     "ename": "ModuleNotFoundError",
     "evalue": "No module named 'altair'",
     "output_type": "error",
     "traceback": [
      "\u001b[0;31m---------------------------------------------------------------------------\u001b[0m",
      "\u001b[0;31mModuleNotFoundError\u001b[0m                       Traceback (most recent call last)",
      "Cell \u001b[0;32mIn[1], line 1\u001b[0m\n\u001b[0;32m----> 1\u001b[0m \u001b[39mimport\u001b[39;00m \u001b[39maltair\u001b[39;00m \u001b[39mas\u001b[39;00m \u001b[39malt\u001b[39;00m\n\u001b[1;32m      2\u001b[0m \u001b[39mimport\u001b[39;00m \u001b[39mpandas\u001b[39;00m \u001b[39mas\u001b[39;00m \u001b[39mpd\u001b[39;00m\n\u001b[1;32m      3\u001b[0m \u001b[39mfrom\u001b[39;00m \u001b[39mvega_datasets\u001b[39;00m \u001b[39mimport\u001b[39;00m data\n",
      "\u001b[0;31mModuleNotFoundError\u001b[0m: No module named 'altair'"
     ]
    }
   ],
   "source": [
    "import altair as alt\n",
    "import pandas as pd\n",
    "from vega_datasets import data\n",
    "\n",
    "# Load example data\n",
    "source = data.seattle_weather()\n",
    "\n",
    "# Convert the date column to datetime\n",
    "source['date'] = pd.to_datetime(source['date'])\n",
    "\n",
    "# Create a basic line chart\n",
    "chart = alt.Chart(source).mark_line().encode(\n",
    "    x=alt.X('monthdate(date):T', axis=alt.Axis(title='Month')),\n",
    "    y='temp_max:Q'\n",
    ").transform_timeunit(\n",
    "    monthyear='monthyear(date)'  # Extract month and year from the date column\n",
    ").properties(\n",
    "    width=600\n",
    ").configure_axisX(\n",
    "    labelAngle=0  # Rotate x-axis labels if needed\n",
    ").configure_axisY(\n",
    "    titleAngle=0  # Rotate y-axis title if needed\n",
    ").configure_title(\n",
    "    fontSize=16\n",
    ")\n",
    "\n",
    "# Sort x-axis in ascending order\n",
    "chart = chart.transform_calculate(\n",
    "    monthyear_sort='monthyear(datum.date)'\n",
    ").transform_window(\n",
    "    sort=[{'field': 'monthyear_sort', 'order': 'ascending'}]\n",
    ").transform_calculate(\n",
    "    monthyear=alt.datum.monthyear_sort\n",
    ")\n",
    "\n",
    "# Display the chart\n",
    "chart.show()\n"
   ]
  },
  {
   "cell_type": "code",
   "execution_count": null,
   "metadata": {},
   "outputs": [],
   "source": []
  }
 ],
 "metadata": {
  "kernelspec": {
   "display_name": "Python 3",
   "language": "python",
   "name": "python3"
  },
  "language_info": {
   "codemirror_mode": {
    "name": "ipython",
    "version": 3
   },
   "file_extension": ".py",
   "mimetype": "text/x-python",
   "name": "python",
   "nbconvert_exporter": "python",
   "pygments_lexer": "ipython3",
   "version": "3.10.6"
  },
  "orig_nbformat": 4
 },
 "nbformat": 4,
 "nbformat_minor": 2
}
